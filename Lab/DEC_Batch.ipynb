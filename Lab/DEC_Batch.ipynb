{
  "nbformat": 4,
  "nbformat_minor": 0,
  "metadata": {
    "colab": {
      "provenance": []
    },
    "kernelspec": {
      "name": "python3",
      "display_name": "Python 3"
    },
    "language_info": {
      "name": "python"
    }
  },
  "cells": [
    {
      "cell_type": "markdown",
      "source": [
        "**Class 1**"
      ],
      "metadata": {
        "id": "7UNH8pyQjru4"
      }
    },
    {
      "cell_type": "code",
      "source": [
        "# Creating a variable\n",
        "# Int\n",
        "Num1=324\n",
        "print(Num1)\n",
        "print(type(Num1))\n",
        "\n",
        "\n",
        "# Float\n",
        "Num2=13.344\n",
        "print(Num2)\n",
        "print(type(Num2))\n",
        "\n",
        "# String\n",
        "name='John'\n",
        "print(name)\n",
        "print(type(name))\n",
        "\n",
        "# Boolean\n",
        "print(10<9)\n",
        "\n",
        "\n",
        " "
      ],
      "metadata": {
        "colab": {
          "base_uri": "https://localhost:8080/"
        },
        "id": "VQ3c3EGbjziO",
        "outputId": "34aa7af4-c8b1-40f0-9c75-b98aa77b7fc3"
      },
      "execution_count": null,
      "outputs": [
        {
          "output_type": "stream",
          "name": "stdout",
          "text": [
            "324\n",
            "<class 'int'>\n",
            "13.344\n",
            "<class 'float'>\n",
            "John\n",
            "<class 'str'>\n",
            "False\n"
          ]
        }
      ]
    },
    {
      "cell_type": "code",
      "source": [
        "a=10\n",
        "b=20\n",
        "print(a>b)"
      ],
      "metadata": {
        "colab": {
          "base_uri": "https://localhost:8080/"
        },
        "id": "410B4ASIkxGz",
        "outputId": "816e7171-bf8f-42e9-dca8-ad7e4f5b8f8c"
      },
      "execution_count": null,
      "outputs": [
        {
          "output_type": "stream",
          "name": "stdout",
          "text": [
            "False\n"
          ]
        }
      ]
    },
    {
      "cell_type": "code",
      "source": [
        "num1=1324\n",
        "num2=1324.6\n",
        "sum=num1+num2\n",
        "# Concatenation\n",
        "print(\"The addition of two values are\",sum)\n",
        "print(round(sum))"
      ],
      "metadata": {
        "colab": {
          "base_uri": "https://localhost:8080/"
        },
        "id": "E4B6GFoAnkrI",
        "outputId": "98b02c29-9a97-4cac-e62d-ee80119a4ff4"
      },
      "execution_count": null,
      "outputs": [
        {
          "output_type": "stream",
          "name": "stdout",
          "text": [
            "The addition of two values are 2648.6\n",
            "2649\n"
          ]
        }
      ]
    },
    {
      "cell_type": "code",
      "source": [
        "diff = num1 - num2\n",
        "print(diff)\n",
        "\n",
        "prod = num1*num2\n",
        "print(prod)\n",
        "\n",
        "quot = num1/num2\n",
        "print(quot)\n"
      ],
      "metadata": {
        "colab": {
          "base_uri": "https://localhost:8080/"
        },
        "id": "CZ2pmccQoPxm",
        "outputId": "942ebde0-70a0-4cd1-9557-208fc451ca0a"
      },
      "execution_count": null,
      "outputs": [
        {
          "output_type": "stream",
          "name": "stdout",
          "text": [
            "-0.2999999999999545\n",
            "1753373.2\n",
            "0.9997734652269124\n"
          ]
        }
      ]
    },
    {
      "cell_type": "code",
      "source": [
        "num3=float(input(\"Enter the first number:\"))\n",
        "num4=float(input(\"Enter the second number:\"))\n",
        "print(\"The sum of two numbers are\",(num3+num4))"
      ],
      "metadata": {
        "colab": {
          "base_uri": "https://localhost:8080/"
        },
        "id": "7tiERpwHpT96",
        "outputId": "8ae7b209-8a1a-4c15-95ef-d3c34a4745d7"
      },
      "execution_count": null,
      "outputs": [
        {
          "output_type": "stream",
          "name": "stdout",
          "text": [
            "Enter the first number:1\n",
            "Enter the second number:1\n",
            "The sum of two numbers are 2.0\n"
          ]
        }
      ]
    },
    {
      "cell_type": "code",
      "source": [
        "name1=\"Jerry\"\n",
        "print(\"My favorite cartoon name is\",name1)"
      ],
      "metadata": {
        "colab": {
          "base_uri": "https://localhost:8080/"
        },
        "id": "cj0Dt0Dhqj6r",
        "outputId": "806506cd-ad6a-421d-df14-ce1c58e958ab"
      },
      "execution_count": null,
      "outputs": [
        {
          "output_type": "stream",
          "name": "stdout",
          "text": [
            "My favorite cartoon name is Jerry\n"
          ]
        }
      ]
    }
  ]
}